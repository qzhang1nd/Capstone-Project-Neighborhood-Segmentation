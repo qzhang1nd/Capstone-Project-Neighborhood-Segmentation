{
    "nbformat_minor": 1, 
    "cells": [
        {
            "source": "# Capstone Project: Recommendation of new tenant(s) to a commercial plaza\n## 1. [Introduction/Business Problem](#part1)\n## 2. Data\n## 3. Methodology\n## 4. Results\n## 5. Discussion\n## 6. Conclusion", 
            "cell_type": "markdown", 
            "metadata": {
                "collapsed": true
            }
        }, 
        {
            "source": "<a id='part1'></a>\n# 1. Introduction/Business Problem\n## A client recently bought a commercial plaza in Lanham, Maryland. Most of the units in the plaza have already been under contract, but there is still one unit empty. He need to find a tenant to rent out the empty unit. In this data science project, I will recommend a venue (category) or a few venues (categories) for him to look into as his potential future tenant(s).\n## This problem could be interesting to landlords of commercial properties or developers of a new community/neighborhood.", 
            "cell_type": "markdown", 
            "metadata": {}
        }
    ], 
    "metadata": {
        "kernelspec": {
            "display_name": "Python 3.5", 
            "name": "python3", 
            "language": "python"
        }, 
        "language_info": {
            "mimetype": "text/x-python", 
            "nbconvert_exporter": "python", 
            "version": "3.5.5", 
            "name": "python", 
            "file_extension": ".py", 
            "pygments_lexer": "ipython3", 
            "codemirror_mode": {
                "version": 3, 
                "name": "ipython"
            }
        }
    }, 
    "nbformat": 4
}