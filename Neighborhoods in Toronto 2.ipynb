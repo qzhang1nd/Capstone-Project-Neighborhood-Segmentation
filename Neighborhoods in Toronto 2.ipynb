{
    "nbformat_minor": 1, 
    "cells": [
        {
            "execution_count": 1, 
            "cell_type": "code", 
            "metadata": {}, 
            "outputs": [], 
            "source": "#!conda install -c conda-forge beautifulsoup4\nfrom bs4 import BeautifulSoup\n#!conda install -c conda-forge lxml\nimport requests\nimport pandas as pd"
        }, 
        {
            "source": "### 1. Scrape the Wikipedia page to get data", 
            "cell_type": "markdown", 
            "metadata": {}
        }, 
        {
            "execution_count": 2, 
            "cell_type": "code", 
            "metadata": {}, 
            "outputs": [], 
            "source": "source=requests.get('https://en.wikipedia.org/wiki/List_of_postal_codes_of_Canada:_M').text\nsoup=BeautifulSoup(source,'lxml')\n#print(soup.prettify())"
        }, 
        {
            "execution_count": 3, 
            "cell_type": "code", 
            "metadata": {}, 
            "outputs": [], 
            "source": "table=soup.find('table',class_='wikitable sortable')\ndata=table.find_all('td')\nPostcode=[]\nBorough=[]\nNeighborhood=[]\nfor item in data[0::3]:\n    Postcode.append(item.text)\nfor item in data[1::3]:\n    try:\n        Borough.append(item.a.text)\n    except:\n        Borough.append(None)\nfor item in data[2::3]:\n    try:\n        Neighborhood.append(item.a.text)\n    except:\n        Neighborhood.append(None)"
        }, 
        {
            "source": "### 2. Create the dataframe", 
            "cell_type": "markdown", 
            "metadata": {}
        }, 
        {
            "execution_count": 4, 
            "cell_type": "code", 
            "metadata": {}, 
            "outputs": [
                {
                    "execution_count": 4, 
                    "metadata": {}, 
                    "data": {
                        "text/plain": "(288, 3)"
                    }, 
                    "output_type": "execute_result"
                }
            ], 
            "source": "df_data={'Postcode':Postcode,'Borough':Borough,'Neighborhood':Neighborhood}\ndf=pd.DataFrame(df_data,columns=['Postcode','Borough','Neighborhood'])\ndf.shape"
        }, 
        {
            "source": "#### Remove cells with a borough that is Not assigned", 
            "cell_type": "markdown", 
            "metadata": {}
        }, 
        {
            "execution_count": 5, 
            "cell_type": "code", 
            "metadata": {}, 
            "outputs": [
                {
                    "execution_count": 5, 
                    "metadata": {}, 
                    "data": {
                        "text/html": "<div>\n<style scoped>\n    .dataframe tbody tr th:only-of-type {\n        vertical-align: middle;\n    }\n\n    .dataframe tbody tr th {\n        vertical-align: top;\n    }\n\n    .dataframe thead th {\n        text-align: right;\n    }\n</style>\n<table border=\"1\" class=\"dataframe\">\n  <thead>\n    <tr style=\"text-align: right;\">\n      <th></th>\n      <th>Postcode</th>\n      <th>Borough</th>\n      <th>Neighborhood</th>\n    </tr>\n  </thead>\n  <tbody>\n    <tr>\n      <th>0</th>\n      <td>M3A</td>\n      <td>North York</td>\n      <td>Parkwoods</td>\n    </tr>\n    <tr>\n      <th>1</th>\n      <td>M4A</td>\n      <td>North York</td>\n      <td>Victoria Village</td>\n    </tr>\n    <tr>\n      <th>2</th>\n      <td>M5A</td>\n      <td>Downtown Toronto</td>\n      <td>Harbourfront</td>\n    </tr>\n    <tr>\n      <th>3</th>\n      <td>M5A</td>\n      <td>Downtown Toronto</td>\n      <td>Regent Park</td>\n    </tr>\n    <tr>\n      <th>4</th>\n      <td>M6A</td>\n      <td>North York</td>\n      <td>Lawrence Heights</td>\n    </tr>\n  </tbody>\n</table>\n</div>", 
                        "text/plain": "  Postcode           Borough      Neighborhood\n0      M3A        North York         Parkwoods\n1      M4A        North York  Victoria Village\n2      M5A  Downtown Toronto      Harbourfront\n3      M5A  Downtown Toronto       Regent Park\n4      M6A        North York  Lawrence Heights"
                    }, 
                    "output_type": "execute_result"
                }
            ], 
            "source": "df.dropna(subset=['Borough'],inplace=True)\ndf.reset_index(drop=True,inplace=True)\ndf.head()"
        }, 
        {
            "source": "#### Assign neighborhoods that are Not assigned to their borough", 
            "cell_type": "markdown", 
            "metadata": {}
        }, 
        {
            "execution_count": 6, 
            "cell_type": "code", 
            "metadata": {}, 
            "outputs": [
                {
                    "execution_count": 6, 
                    "metadata": {}, 
                    "data": {
                        "text/html": "<div>\n<style scoped>\n    .dataframe tbody tr th:only-of-type {\n        vertical-align: middle;\n    }\n\n    .dataframe tbody tr th {\n        vertical-align: top;\n    }\n\n    .dataframe thead th {\n        text-align: right;\n    }\n</style>\n<table border=\"1\" class=\"dataframe\">\n  <thead>\n    <tr style=\"text-align: right;\">\n      <th></th>\n      <th>Postcode</th>\n      <th>Borough</th>\n      <th>Neighborhood</th>\n    </tr>\n  </thead>\n  <tbody>\n    <tr>\n      <th>0</th>\n      <td>M3A</td>\n      <td>North York</td>\n      <td>Parkwoods</td>\n    </tr>\n    <tr>\n      <th>1</th>\n      <td>M4A</td>\n      <td>North York</td>\n      <td>Victoria Village</td>\n    </tr>\n    <tr>\n      <th>2</th>\n      <td>M5A</td>\n      <td>Downtown Toronto</td>\n      <td>Harbourfront</td>\n    </tr>\n    <tr>\n      <th>3</th>\n      <td>M5A</td>\n      <td>Downtown Toronto</td>\n      <td>Regent Park</td>\n    </tr>\n    <tr>\n      <th>4</th>\n      <td>M6A</td>\n      <td>North York</td>\n      <td>Lawrence Heights</td>\n    </tr>\n    <tr>\n      <th>5</th>\n      <td>M6A</td>\n      <td>North York</td>\n      <td>Lawrence Manor</td>\n    </tr>\n    <tr>\n      <th>6</th>\n      <td>M7A</td>\n      <td>Queen's Park</td>\n      <td>Queen's Park</td>\n    </tr>\n    <tr>\n      <th>7</th>\n      <td>M9A</td>\n      <td>Etobicoke</td>\n      <td>Islington Avenue</td>\n    </tr>\n    <tr>\n      <th>8</th>\n      <td>M1B</td>\n      <td>Scarborough</td>\n      <td>Rouge</td>\n    </tr>\n    <tr>\n      <th>9</th>\n      <td>M1B</td>\n      <td>Scarborough</td>\n      <td>Malvern</td>\n    </tr>\n    <tr>\n      <th>10</th>\n      <td>M3B</td>\n      <td>North York</td>\n      <td>North York</td>\n    </tr>\n    <tr>\n      <th>11</th>\n      <td>M4B</td>\n      <td>East York</td>\n      <td>Woodbine Gardens</td>\n    </tr>\n  </tbody>\n</table>\n</div>", 
                        "text/plain": "   Postcode           Borough      Neighborhood\n0       M3A        North York         Parkwoods\n1       M4A        North York  Victoria Village\n2       M5A  Downtown Toronto      Harbourfront\n3       M5A  Downtown Toronto       Regent Park\n4       M6A        North York  Lawrence Heights\n5       M6A        North York    Lawrence Manor\n6       M7A      Queen's Park      Queen's Park\n7       M9A         Etobicoke  Islington Avenue\n8       M1B       Scarborough             Rouge\n9       M1B       Scarborough           Malvern\n10      M3B        North York        North York\n11      M4B         East York  Woodbine Gardens"
                    }, 
                    "output_type": "execute_result"
                }
            ], 
            "source": "missing_index=df[df['Neighborhood'].isna()].index\ndf.loc[missing_index,'Neighborhood']=df.loc[missing_index,'Borough']\ndf.head(12)"
        }, 
        {
            "source": "#### Combine multiple neighborhoods with the same postcode togeter, separated with ',' ", 
            "cell_type": "markdown", 
            "metadata": {}
        }, 
        {
            "execution_count": 7, 
            "cell_type": "code", 
            "metadata": {}, 
            "outputs": [
                {
                    "execution_count": 7, 
                    "metadata": {}, 
                    "data": {
                        "text/html": "<div>\n<style scoped>\n    .dataframe tbody tr th:only-of-type {\n        vertical-align: middle;\n    }\n\n    .dataframe tbody tr th {\n        vertical-align: top;\n    }\n\n    .dataframe thead th {\n        text-align: right;\n    }\n</style>\n<table border=\"1\" class=\"dataframe\">\n  <thead>\n    <tr style=\"text-align: right;\">\n      <th></th>\n      <th>Postcode</th>\n      <th>Borough</th>\n      <th>Neighborhood</th>\n    </tr>\n  </thead>\n  <tbody>\n    <tr>\n      <th>0</th>\n      <td>M1B</td>\n      <td>Scarborough</td>\n      <td>Rouge, Malvern</td>\n    </tr>\n    <tr>\n      <th>1</th>\n      <td>M1C</td>\n      <td>Scarborough</td>\n      <td>Highland Creek, Rouge Hill, Port Union</td>\n    </tr>\n    <tr>\n      <th>2</th>\n      <td>M1E</td>\n      <td>Scarborough</td>\n      <td>Scarborough, Morningside, West Hill</td>\n    </tr>\n    <tr>\n      <th>3</th>\n      <td>M1G</td>\n      <td>Scarborough</td>\n      <td>Woburn</td>\n    </tr>\n    <tr>\n      <th>4</th>\n      <td>M1H</td>\n      <td>Scarborough</td>\n      <td>Scarborough</td>\n    </tr>\n  </tbody>\n</table>\n</div>", 
                        "text/plain": "  Postcode      Borough                            Neighborhood\n0      M1B  Scarborough                          Rouge, Malvern\n1      M1C  Scarborough  Highland Creek, Rouge Hill, Port Union\n2      M1E  Scarborough     Scarborough, Morningside, West Hill\n3      M1G  Scarborough                                  Woburn\n4      M1H  Scarborough                             Scarborough"
                    }, 
                    "output_type": "execute_result"
                }
            ], 
            "source": "Toronto_Neighborhoods=df.groupby(['Postcode','Borough'])['Neighborhood'].apply(lambda x: ', '.join(x)).to_frame().reset_index()\nToronto_Neighborhoods.head()"
        }, 
        {
            "execution_count": 8, 
            "cell_type": "code", 
            "metadata": {}, 
            "outputs": [
                {
                    "execution_count": 8, 
                    "metadata": {}, 
                    "data": {
                        "text/plain": "(100, 3)"
                    }, 
                    "output_type": "execute_result"
                }
            ], 
            "source": "Toronto_Neighborhoods.shape"
        }, 
        {
            "execution_count": 10, 
            "cell_type": "code", 
            "metadata": {}, 
            "outputs": [
                {
                    "execution_count": 10, 
                    "metadata": {}, 
                    "data": {
                        "text/html": "<div>\n<style scoped>\n    .dataframe tbody tr th:only-of-type {\n        vertical-align: middle;\n    }\n\n    .dataframe tbody tr th {\n        vertical-align: top;\n    }\n\n    .dataframe thead th {\n        text-align: right;\n    }\n</style>\n<table border=\"1\" class=\"dataframe\">\n  <thead>\n    <tr style=\"text-align: right;\">\n      <th></th>\n      <th>Postal Code</th>\n      <th>Latitude</th>\n      <th>Longitude</th>\n    </tr>\n  </thead>\n  <tbody>\n    <tr>\n      <th>0</th>\n      <td>M1B</td>\n      <td>43.806686</td>\n      <td>-79.194353</td>\n    </tr>\n    <tr>\n      <th>1</th>\n      <td>M1C</td>\n      <td>43.784535</td>\n      <td>-79.160497</td>\n    </tr>\n    <tr>\n      <th>2</th>\n      <td>M1E</td>\n      <td>43.763573</td>\n      <td>-79.188711</td>\n    </tr>\n    <tr>\n      <th>3</th>\n      <td>M1G</td>\n      <td>43.770992</td>\n      <td>-79.216917</td>\n    </tr>\n    <tr>\n      <th>4</th>\n      <td>M1H</td>\n      <td>43.773136</td>\n      <td>-79.239476</td>\n    </tr>\n  </tbody>\n</table>\n</div>", 
                        "text/plain": "  Postal Code   Latitude  Longitude\n0         M1B  43.806686 -79.194353\n1         M1C  43.784535 -79.160497\n2         M1E  43.763573 -79.188711\n3         M1G  43.770992 -79.216917\n4         M1H  43.773136 -79.239476"
                    }, 
                    "output_type": "execute_result"
                }
            ], 
            "source": "df_geo=pd.read_csv('http://cocl.us/Geospatial_data')\ndf_geo.head()"
        }, 
        {
            "execution_count": 20, 
            "cell_type": "code", 
            "metadata": {}, 
            "outputs": [
                {
                    "execution_count": 20, 
                    "metadata": {}, 
                    "data": {
                        "text/plain": "(100, 5)"
                    }, 
                    "output_type": "execute_result"
                }
            ], 
            "source": "df_Toronto_Neighborhoods=pd.merge(Toronto_Neighborhoods,df_geo,left_on='Postcode',right_on='Postal Code')\ndf_Toronto_Neighborhoods.drop(columns=['Postal Code'],inplace=True)\ndf_Toronto_Neighborhoods.head(12)"
        }, 
        {
            "execution_count": 18, 
            "cell_type": "code", 
            "metadata": {}, 
            "outputs": [
                {
                    "execution_count": 18, 
                    "metadata": {}, 
                    "data": {
                        "text/html": "<div>\n<style scoped>\n    .dataframe tbody tr th:only-of-type {\n        vertical-align: middle;\n    }\n\n    .dataframe tbody tr th {\n        vertical-align: top;\n    }\n\n    .dataframe thead th {\n        text-align: right;\n    }\n</style>\n<table border=\"1\" class=\"dataframe\">\n  <thead>\n    <tr style=\"text-align: right;\">\n      <th></th>\n      <th>Postcode</th>\n      <th>Borough</th>\n      <th>Neighborhood</th>\n      <th>Postal Code</th>\n      <th>Latitude</th>\n      <th>Longitude</th>\n    </tr>\n  </thead>\n  <tbody>\n    <tr>\n      <th>0</th>\n      <td>M1B</td>\n      <td>Scarborough</td>\n      <td>Rouge, Malvern</td>\n      <td>M1B</td>\n      <td>43.806686</td>\n      <td>-79.194353</td>\n    </tr>\n    <tr>\n      <th>1</th>\n      <td>M1C</td>\n      <td>Scarborough</td>\n      <td>Highland Creek, Rouge Hill, Port Union</td>\n      <td>M1C</td>\n      <td>43.784535</td>\n      <td>-79.160497</td>\n    </tr>\n    <tr>\n      <th>2</th>\n      <td>M1E</td>\n      <td>Scarborough</td>\n      <td>Scarborough, Morningside, West Hill</td>\n      <td>M1E</td>\n      <td>43.763573</td>\n      <td>-79.188711</td>\n    </tr>\n    <tr>\n      <th>3</th>\n      <td>M1G</td>\n      <td>Scarborough</td>\n      <td>Woburn</td>\n      <td>M1G</td>\n      <td>43.770992</td>\n      <td>-79.216917</td>\n    </tr>\n    <tr>\n      <th>4</th>\n      <td>M1H</td>\n      <td>Scarborough</td>\n      <td>Scarborough</td>\n      <td>M1H</td>\n      <td>43.773136</td>\n      <td>-79.239476</td>\n    </tr>\n    <tr>\n      <th>5</th>\n      <td>M1J</td>\n      <td>Scarborough</td>\n      <td>Scarborough Village</td>\n      <td>M1J</td>\n      <td>43.744734</td>\n      <td>-79.239476</td>\n    </tr>\n    <tr>\n      <th>6</th>\n      <td>M1K</td>\n      <td>Scarborough</td>\n      <td>Scarborough, Ionview, Kennedy Park</td>\n      <td>M1K</td>\n      <td>43.727929</td>\n      <td>-79.262029</td>\n    </tr>\n    <tr>\n      <th>7</th>\n      <td>M1L</td>\n      <td>Scarborough</td>\n      <td>Clairlea, Golden Mile, Oakridge</td>\n      <td>M1L</td>\n      <td>43.711112</td>\n      <td>-79.284577</td>\n    </tr>\n    <tr>\n      <th>8</th>\n      <td>M1M</td>\n      <td>Scarborough</td>\n      <td>Cliffcrest, Cliffside, Scarborough</td>\n      <td>M1M</td>\n      <td>43.716316</td>\n      <td>-79.239476</td>\n    </tr>\n    <tr>\n      <th>9</th>\n      <td>M1N</td>\n      <td>Scarborough</td>\n      <td>Birch Cliff, Scarborough</td>\n      <td>M1N</td>\n      <td>43.692657</td>\n      <td>-79.264848</td>\n    </tr>\n    <tr>\n      <th>10</th>\n      <td>M1P</td>\n      <td>Scarborough</td>\n      <td>Dorset Park, Scarborough Town Centre, Wexford ...</td>\n      <td>M1P</td>\n      <td>43.757410</td>\n      <td>-79.273304</td>\n    </tr>\n    <tr>\n      <th>11</th>\n      <td>M1R</td>\n      <td>Scarborough</td>\n      <td>Maryvale, Wexford</td>\n      <td>M1R</td>\n      <td>43.750072</td>\n      <td>-79.295849</td>\n    </tr>\n    <tr>\n      <th>12</th>\n      <td>M1S</td>\n      <td>Scarborough</td>\n      <td>Agincourt</td>\n      <td>M1S</td>\n      <td>43.794200</td>\n      <td>-79.262029</td>\n    </tr>\n    <tr>\n      <th>13</th>\n      <td>M1T</td>\n      <td>Scarborough</td>\n      <td>Scarborough, Scarborough, Tam O'Shanter</td>\n      <td>M1T</td>\n      <td>43.781638</td>\n      <td>-79.304302</td>\n    </tr>\n    <tr>\n      <th>14</th>\n      <td>M1V</td>\n      <td>Scarborough</td>\n      <td>Agincourt North, Scarborough, Milliken, Scarbo...</td>\n      <td>M1V</td>\n      <td>43.815252</td>\n      <td>-79.284577</td>\n    </tr>\n    <tr>\n      <th>15</th>\n      <td>M1W</td>\n      <td>Scarborough</td>\n      <td>Scarborough</td>\n      <td>M1W</td>\n      <td>43.799525</td>\n      <td>-79.318389</td>\n    </tr>\n    <tr>\n      <th>16</th>\n      <td>M1X</td>\n      <td>Scarborough</td>\n      <td>Upper Rouge</td>\n      <td>M1X</td>\n      <td>43.836125</td>\n      <td>-79.205636</td>\n    </tr>\n    <tr>\n      <th>17</th>\n      <td>M2H</td>\n      <td>North York</td>\n      <td>Hillcrest Village</td>\n      <td>M2H</td>\n      <td>43.803762</td>\n      <td>-79.363452</td>\n    </tr>\n    <tr>\n      <th>18</th>\n      <td>M2J</td>\n      <td>North York</td>\n      <td>North York, Henry Farm, North York</td>\n      <td>M2J</td>\n      <td>43.778517</td>\n      <td>-79.346556</td>\n    </tr>\n    <tr>\n      <th>19</th>\n      <td>M2K</td>\n      <td>North York</td>\n      <td>Bayview Village</td>\n      <td>M2K</td>\n      <td>43.786947</td>\n      <td>-79.385975</td>\n    </tr>\n  </tbody>\n</table>\n</div>", 
                        "text/plain": "   Postcode      Borough                                       Neighborhood  \\\n0       M1B  Scarborough                                     Rouge, Malvern   \n1       M1C  Scarborough             Highland Creek, Rouge Hill, Port Union   \n2       M1E  Scarborough                Scarborough, Morningside, West Hill   \n3       M1G  Scarborough                                             Woburn   \n4       M1H  Scarborough                                        Scarborough   \n5       M1J  Scarborough                                Scarborough Village   \n6       M1K  Scarborough                 Scarborough, Ionview, Kennedy Park   \n7       M1L  Scarborough                    Clairlea, Golden Mile, Oakridge   \n8       M1M  Scarborough                 Cliffcrest, Cliffside, Scarborough   \n9       M1N  Scarborough                           Birch Cliff, Scarborough   \n10      M1P  Scarborough  Dorset Park, Scarborough Town Centre, Wexford ...   \n11      M1R  Scarborough                                  Maryvale, Wexford   \n12      M1S  Scarborough                                          Agincourt   \n13      M1T  Scarborough            Scarborough, Scarborough, Tam O'Shanter   \n14      M1V  Scarborough  Agincourt North, Scarborough, Milliken, Scarbo...   \n15      M1W  Scarborough                                        Scarborough   \n16      M1X  Scarborough                                        Upper Rouge   \n17      M2H   North York                                  Hillcrest Village   \n18      M2J   North York                 North York, Henry Farm, North York   \n19      M2K   North York                                    Bayview Village   \n\n   Postal Code   Latitude  Longitude  \n0          M1B  43.806686 -79.194353  \n1          M1C  43.784535 -79.160497  \n2          M1E  43.763573 -79.188711  \n3          M1G  43.770992 -79.216917  \n4          M1H  43.773136 -79.239476  \n5          M1J  43.744734 -79.239476  \n6          M1K  43.727929 -79.262029  \n7          M1L  43.711112 -79.284577  \n8          M1M  43.716316 -79.239476  \n9          M1N  43.692657 -79.264848  \n10         M1P  43.757410 -79.273304  \n11         M1R  43.750072 -79.295849  \n12         M1S  43.794200 -79.262029  \n13         M1T  43.781638 -79.304302  \n14         M1V  43.815252 -79.284577  \n15         M1W  43.799525 -79.318389  \n16         M1X  43.836125 -79.205636  \n17         M2H  43.803762 -79.363452  \n18         M2J  43.778517 -79.346556  \n19         M2K  43.786947 -79.385975  "
                    }, 
                    "output_type": "execute_result"
                }
            ], 
            "source": ""
        }, 
        {
            "execution_count": null, 
            "cell_type": "code", 
            "metadata": {}, 
            "outputs": [], 
            "source": ""
        }
    ], 
    "metadata": {
        "kernelspec": {
            "display_name": "Python 3.5", 
            "name": "python3", 
            "language": "python"
        }, 
        "language_info": {
            "mimetype": "text/x-python", 
            "nbconvert_exporter": "python", 
            "version": "3.5.5", 
            "name": "python", 
            "file_extension": ".py", 
            "pygments_lexer": "ipython3", 
            "codemirror_mode": {
                "version": 3, 
                "name": "ipython"
            }
        }
    }, 
    "nbformat": 4
}