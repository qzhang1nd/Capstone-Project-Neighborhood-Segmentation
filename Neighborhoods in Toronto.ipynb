{
    "nbformat_minor": 1, 
    "cells": [
        {
            "execution_count": 91, 
            "cell_type": "code", 
            "metadata": {}, 
            "outputs": [], 
            "source": "#!conda install -c conda-forge beautifulsoup4\nfrom bs4 import BeautifulSoup\n#!conda install -c conda-forge lxml\nimport requests\nfrom geopy.geocoders import Nominatim\n#!conda install -c conda-forge folium\nimport folium\nimport pandas as pd\nfrom pandas.io.json import json_normalize"
        }, 
        {
            "source": "### 1. Scrape the Wikipedia page to get data", 
            "cell_type": "markdown", 
            "metadata": {}
        }, 
        {
            "execution_count": 92, 
            "cell_type": "code", 
            "metadata": {}, 
            "outputs": [], 
            "source": "source=requests.get('https://en.wikipedia.org/wiki/List_of_postal_codes_of_Canada:_M').text\nsoup=BeautifulSoup(source,'lxml')\n#print(soup.prettify())"
        }, 
        {
            "execution_count": 93, 
            "cell_type": "code", 
            "metadata": {}, 
            "outputs": [], 
            "source": "table=soup.find('table',class_='wikitable sortable')\ndata=table.find_all('td')\nPostcode=[]\nBorough=[]\nNeighborhood=[]\nfor item in data[0::3]:\n    Postcode.append(item.text)\nfor item in data[1::3]:\n    try:\n        Borough.append(item.a.text)\n    except:\n        Borough.append(None)\nfor item in data[2::3]:\n    try:\n        Neighborhood.append(item.a.text)\n    except:\n        Neighborhood.append(None)"
        }, 
        {
            "source": "### 2. Create the dataframe", 
            "cell_type": "markdown", 
            "metadata": {}
        }, 
        {
            "execution_count": 94, 
            "cell_type": "code", 
            "metadata": {}, 
            "outputs": [
                {
                    "execution_count": 94, 
                    "metadata": {}, 
                    "data": {
                        "text/plain": "(288, 3)"
                    }, 
                    "output_type": "execute_result"
                }
            ], 
            "source": "df_data={'Postcode':Postcode,'Borough':Borough,'Neighborhood':Neighborhood}\ndf=pd.DataFrame(df_data,columns=['Postcode','Borough','Neighborhood'])\ndf.shape"
        }, 
        {
            "source": "#### Remove cells with a borough that is Not assigned", 
            "cell_type": "markdown", 
            "metadata": {}
        }, 
        {
            "execution_count": 95, 
            "cell_type": "code", 
            "metadata": {}, 
            "outputs": [
                {
                    "execution_count": 95, 
                    "metadata": {}, 
                    "data": {
                        "text/html": "<div>\n<style scoped>\n    .dataframe tbody tr th:only-of-type {\n        vertical-align: middle;\n    }\n\n    .dataframe tbody tr th {\n        vertical-align: top;\n    }\n\n    .dataframe thead th {\n        text-align: right;\n    }\n</style>\n<table border=\"1\" class=\"dataframe\">\n  <thead>\n    <tr style=\"text-align: right;\">\n      <th></th>\n      <th>Postcode</th>\n      <th>Borough</th>\n      <th>Neighborhood</th>\n    </tr>\n  </thead>\n  <tbody>\n    <tr>\n      <th>0</th>\n      <td>M3A</td>\n      <td>North York</td>\n      <td>Parkwoods</td>\n    </tr>\n    <tr>\n      <th>1</th>\n      <td>M4A</td>\n      <td>North York</td>\n      <td>Victoria Village</td>\n    </tr>\n    <tr>\n      <th>2</th>\n      <td>M5A</td>\n      <td>Downtown Toronto</td>\n      <td>Harbourfront</td>\n    </tr>\n    <tr>\n      <th>3</th>\n      <td>M5A</td>\n      <td>Downtown Toronto</td>\n      <td>Regent Park</td>\n    </tr>\n    <tr>\n      <th>4</th>\n      <td>M6A</td>\n      <td>North York</td>\n      <td>Lawrence Heights</td>\n    </tr>\n  </tbody>\n</table>\n</div>", 
                        "text/plain": "  Postcode           Borough      Neighborhood\n0      M3A        North York         Parkwoods\n1      M4A        North York  Victoria Village\n2      M5A  Downtown Toronto      Harbourfront\n3      M5A  Downtown Toronto       Regent Park\n4      M6A        North York  Lawrence Heights"
                    }, 
                    "output_type": "execute_result"
                }
            ], 
            "source": "df.dropna(subset=['Borough'],inplace=True)\ndf.reset_index(drop=True,inplace=True)\ndf.head()"
        }, 
        {
            "source": "#### Assign neighborhoods that are Not assigned to their borough", 
            "cell_type": "markdown", 
            "metadata": {}
        }, 
        {
            "execution_count": 96, 
            "cell_type": "code", 
            "metadata": {}, 
            "outputs": [
                {
                    "execution_count": 96, 
                    "metadata": {}, 
                    "data": {
                        "text/html": "<div>\n<style scoped>\n    .dataframe tbody tr th:only-of-type {\n        vertical-align: middle;\n    }\n\n    .dataframe tbody tr th {\n        vertical-align: top;\n    }\n\n    .dataframe thead th {\n        text-align: right;\n    }\n</style>\n<table border=\"1\" class=\"dataframe\">\n  <thead>\n    <tr style=\"text-align: right;\">\n      <th></th>\n      <th>Postcode</th>\n      <th>Borough</th>\n      <th>Neighborhood</th>\n    </tr>\n  </thead>\n  <tbody>\n    <tr>\n      <th>0</th>\n      <td>M3A</td>\n      <td>North York</td>\n      <td>Parkwoods</td>\n    </tr>\n    <tr>\n      <th>1</th>\n      <td>M4A</td>\n      <td>North York</td>\n      <td>Victoria Village</td>\n    </tr>\n    <tr>\n      <th>2</th>\n      <td>M5A</td>\n      <td>Downtown Toronto</td>\n      <td>Harbourfront</td>\n    </tr>\n    <tr>\n      <th>3</th>\n      <td>M5A</td>\n      <td>Downtown Toronto</td>\n      <td>Regent Park</td>\n    </tr>\n    <tr>\n      <th>4</th>\n      <td>M6A</td>\n      <td>North York</td>\n      <td>Lawrence Heights</td>\n    </tr>\n    <tr>\n      <th>5</th>\n      <td>M6A</td>\n      <td>North York</td>\n      <td>Lawrence Manor</td>\n    </tr>\n    <tr>\n      <th>6</th>\n      <td>M7A</td>\n      <td>Queen's Park</td>\n      <td>Queen's Park</td>\n    </tr>\n    <tr>\n      <th>7</th>\n      <td>M9A</td>\n      <td>Etobicoke</td>\n      <td>Islington Avenue</td>\n    </tr>\n    <tr>\n      <th>8</th>\n      <td>M1B</td>\n      <td>Scarborough</td>\n      <td>Rouge</td>\n    </tr>\n    <tr>\n      <th>9</th>\n      <td>M1B</td>\n      <td>Scarborough</td>\n      <td>Malvern</td>\n    </tr>\n    <tr>\n      <th>10</th>\n      <td>M3B</td>\n      <td>North York</td>\n      <td>North York</td>\n    </tr>\n    <tr>\n      <th>11</th>\n      <td>M4B</td>\n      <td>East York</td>\n      <td>Woodbine Gardens</td>\n    </tr>\n  </tbody>\n</table>\n</div>", 
                        "text/plain": "   Postcode           Borough      Neighborhood\n0       M3A        North York         Parkwoods\n1       M4A        North York  Victoria Village\n2       M5A  Downtown Toronto      Harbourfront\n3       M5A  Downtown Toronto       Regent Park\n4       M6A        North York  Lawrence Heights\n5       M6A        North York    Lawrence Manor\n6       M7A      Queen's Park      Queen's Park\n7       M9A         Etobicoke  Islington Avenue\n8       M1B       Scarborough             Rouge\n9       M1B       Scarborough           Malvern\n10      M3B        North York        North York\n11      M4B         East York  Woodbine Gardens"
                    }, 
                    "output_type": "execute_result"
                }
            ], 
            "source": "missing_index=df[df['Neighborhood'].isna()].index\ndf.loc[missing_index,'Neighborhood']=df.loc[missing_index,'Borough']\ndf.head(12)"
        }, 
        {
            "source": "#### Combine multiple neighborhoods with the same postcode togeter, separated with ',' ", 
            "cell_type": "markdown", 
            "metadata": {}
        }, 
        {
            "execution_count": 102, 
            "cell_type": "code", 
            "metadata": {}, 
            "outputs": [
                {
                    "execution_count": 102, 
                    "metadata": {}, 
                    "data": {
                        "text/html": "<div>\n<style scoped>\n    .dataframe tbody tr th:only-of-type {\n        vertical-align: middle;\n    }\n\n    .dataframe tbody tr th {\n        vertical-align: top;\n    }\n\n    .dataframe thead th {\n        text-align: right;\n    }\n</style>\n<table border=\"1\" class=\"dataframe\">\n  <thead>\n    <tr style=\"text-align: right;\">\n      <th></th>\n      <th>Postcode</th>\n      <th>Borough</th>\n      <th>Neighborhood</th>\n    </tr>\n  </thead>\n  <tbody>\n    <tr>\n      <th>0</th>\n      <td>M1B</td>\n      <td>Scarborough</td>\n      <td>Rouge, Malvern</td>\n    </tr>\n    <tr>\n      <th>1</th>\n      <td>M1C</td>\n      <td>Scarborough</td>\n      <td>Highland Creek, Rouge Hill, Port Union</td>\n    </tr>\n    <tr>\n      <th>2</th>\n      <td>M1E</td>\n      <td>Scarborough</td>\n      <td>Scarborough, Morningside, West Hill</td>\n    </tr>\n    <tr>\n      <th>3</th>\n      <td>M1G</td>\n      <td>Scarborough</td>\n      <td>Woburn</td>\n    </tr>\n    <tr>\n      <th>4</th>\n      <td>M1H</td>\n      <td>Scarborough</td>\n      <td>Scarborough</td>\n    </tr>\n    <tr>\n      <th>5</th>\n      <td>M1J</td>\n      <td>Scarborough</td>\n      <td>Scarborough Village</td>\n    </tr>\n    <tr>\n      <th>6</th>\n      <td>M1K</td>\n      <td>Scarborough</td>\n      <td>Scarborough, Ionview, Kennedy Park</td>\n    </tr>\n    <tr>\n      <th>7</th>\n      <td>M1L</td>\n      <td>Scarborough</td>\n      <td>Clairlea, Golden Mile, Oakridge</td>\n    </tr>\n    <tr>\n      <th>8</th>\n      <td>M1M</td>\n      <td>Scarborough</td>\n      <td>Cliffcrest, Cliffside, Scarborough</td>\n    </tr>\n    <tr>\n      <th>9</th>\n      <td>M1N</td>\n      <td>Scarborough</td>\n      <td>Birch Cliff, Scarborough</td>\n    </tr>\n    <tr>\n      <th>10</th>\n      <td>M1P</td>\n      <td>Scarborough</td>\n      <td>Dorset Park, Scarborough Town Centre, Wexford ...</td>\n    </tr>\n    <tr>\n      <th>11</th>\n      <td>M1R</td>\n      <td>Scarborough</td>\n      <td>Maryvale, Wexford</td>\n    </tr>\n    <tr>\n      <th>12</th>\n      <td>M1S</td>\n      <td>Scarborough</td>\n      <td>Agincourt</td>\n    </tr>\n    <tr>\n      <th>13</th>\n      <td>M1T</td>\n      <td>Scarborough</td>\n      <td>Scarborough, Tam O'Shanter</td>\n    </tr>\n    <tr>\n      <th>14</th>\n      <td>M1V</td>\n      <td>Scarborough</td>\n      <td>Agincourt North, Scarborough, Milliken</td>\n    </tr>\n    <tr>\n      <th>15</th>\n      <td>M1W</td>\n      <td>Scarborough</td>\n      <td>Scarborough</td>\n    </tr>\n    <tr>\n      <th>16</th>\n      <td>M1X</td>\n      <td>Scarborough</td>\n      <td>Upper Rouge</td>\n    </tr>\n    <tr>\n      <th>17</th>\n      <td>M2H</td>\n      <td>North York</td>\n      <td>Hillcrest Village</td>\n    </tr>\n    <tr>\n      <th>18</th>\n      <td>M2J</td>\n      <td>North York</td>\n      <td>North York, Henry Farm</td>\n    </tr>\n    <tr>\n      <th>19</th>\n      <td>M2K</td>\n      <td>North York</td>\n      <td>Bayview Village</td>\n    </tr>\n  </tbody>\n</table>\n</div>", 
                        "text/plain": "   Postcode      Borough                                       Neighborhood\n0       M1B  Scarborough                                     Rouge, Malvern\n1       M1C  Scarborough             Highland Creek, Rouge Hill, Port Union\n2       M1E  Scarborough                Scarborough, Morningside, West Hill\n3       M1G  Scarborough                                             Woburn\n4       M1H  Scarborough                                        Scarborough\n5       M1J  Scarborough                                Scarborough Village\n6       M1K  Scarborough                 Scarborough, Ionview, Kennedy Park\n7       M1L  Scarborough                    Clairlea, Golden Mile, Oakridge\n8       M1M  Scarborough                 Cliffcrest, Cliffside, Scarborough\n9       M1N  Scarborough                           Birch Cliff, Scarborough\n10      M1P  Scarborough  Dorset Park, Scarborough Town Centre, Wexford ...\n11      M1R  Scarborough                                  Maryvale, Wexford\n12      M1S  Scarborough                                          Agincourt\n13      M1T  Scarborough                         Scarborough, Tam O'Shanter\n14      M1V  Scarborough             Agincourt North, Scarborough, Milliken\n15      M1W  Scarborough                                        Scarborough\n16      M1X  Scarborough                                        Upper Rouge\n17      M2H   North York                                  Hillcrest Village\n18      M2J   North York                             North York, Henry Farm\n19      M2K   North York                                    Bayview Village"
                    }, 
                    "output_type": "execute_result"
                }
            ], 
            "source": "df.drop_duplicates(inplace=True)\nToronto_Neighborhoods=df.groupby(['Postcode','Borough'])['Neighborhood'].apply(lambda x: ', '.join(x)).to_frame().reset_index()\nToronto_Neighborhoods.head(20)"
        }, 
        {
            "execution_count": 103, 
            "cell_type": "code", 
            "metadata": {}, 
            "outputs": [
                {
                    "execution_count": 103, 
                    "metadata": {}, 
                    "data": {
                        "text/plain": "(100, 3)"
                    }, 
                    "output_type": "execute_result"
                }
            ], 
            "source": "Toronto_Neighborhoods.shape"
        }, 
        {
            "execution_count": 31, 
            "cell_type": "code", 
            "metadata": {}, 
            "outputs": [
                {
                    "execution_count": 31, 
                    "metadata": {}, 
                    "data": {
                        "text/plain": "'East Toronto, Riverdale'"
                    }, 
                    "output_type": "execute_result"
                }
            ], 
            "source": "Toronto.loc[0,'Neighborhood']"
        }, 
        {
            "execution_count": 33, 
            "cell_type": "code", 
            "metadata": {}, 
            "outputs": [], 
            "source": "LATITUDE=Toronto.loc[0,'Latitude']\nLONGITUDE=Toronto.loc[0,'Longitude']\nRADIUS=500\nLIMIT=100\nurl='https://api.foursquare.com/v2/venues/explore?client_id={}&client_secret={}&v={}&ll={},{}&radius={}&limit={}'.format(CLIENT_ID,\n                                                                                                                         CLIENT_SECRET,\n                                                                                                                        VERSION,\n                                                                                                                        LATITUDE,\n                                                                                                                        LONGITUDE,\n                                                                                                                        RADIUS,\n                                                                                                                        LIMIT)\nresults=requests.get(url).json()"
        }, 
        {
            "execution_count": 79, 
            "cell_type": "code", 
            "metadata": {}, 
            "outputs": [], 
            "source": "venues=results['response']['groups'][0]['items']\nnearby_venues=json_normalize(venues)"
        }, 
        {
            "execution_count": 80, 
            "cell_type": "code", 
            "metadata": {}, 
            "outputs": [], 
            "source": "# function that extracts the category of the venue\ndef get_category_type(row):\n    \n    categories_list = row['venue.categories']\n        \n    if len(categories_list) == 0:\n        return None\n    else:\n        return categories_list[0]['name']"
        }, 
        {
            "execution_count": 83, 
            "cell_type": "code", 
            "metadata": {}, 
            "outputs": [], 
            "source": "def getNearbyVenues(names, latitudes, longitudes, radius=500,LIMIT=100):\n    venues_list=[]\n    for name, lat, lng in zip(names, latitudes, longitudes):\n        print(name)\n            \n        # create the API request URL\n        url = 'https://api.foursquare.com/v2/venues/explore?&client_id={}&client_secret={}&v={}&ll={},{}&radius={}&limit={}'.format(\n            CLIENT_ID, \n            CLIENT_SECRET, \n            VERSION, \n            lat, \n            lng, \n            radius, \n            LIMIT)\n            \n        # make the GET request\n        results = requests.get(url).json()[\"response\"]['groups'][0]['items']\n        \n        # return only relevant information for each nearby venue\n        venues_list.append([(\n            name, \n            lat, \n            lng, \n            v['venue']['name'], \n            v['venue']['location']['lat'], \n            v['venue']['location']['lng'],  \n            v['venue']['categories'][0]['name']) for v in results])\n\n    nearby_venues = pd.DataFrame([item for venue_list in venues_list for item in venue_list])\n    nearby_venues.columns = ['Neighborhood', \n                  'Neighborhood Latitude', \n                  'Neighborhood Longitude', \n                  'Venue', \n                  'Venue Latitude', \n                  'Venue Longitude', \n                  'Venue Category']\n    \n    return(nearby_venues)"
        }, 
        {
            "execution_count": 84, 
            "cell_type": "code", 
            "metadata": {}, 
            "outputs": [
                {
                    "output_type": "stream", 
                    "name": "stdout", 
                    "text": "The Beaches\nEast Toronto, Riverdale\nEast Toronto, India Bazaar\nEast Toronto\nLawrence Park\nCentral Toronto\nCentral Toronto\nCentral Toronto\nMoore Park, Central Toronto\nDeer Park, Central Toronto, Rathnelly, South Hill, Central Toronto\nRosedale\nCabbagetown, St. James Town\nChurch and Wellesley\nHarbourfront, Regent Park\nDowntown Toronto, Downtown Toronto\nSt. James Town\nBerczy Park\nDowntown Toronto\nDowntown Toronto, Downtown Toronto, Downtown Toronto\nDowntown Toronto, Toronto Islands, Union Station\nDesign Exchange, Toronto Dominion Centre\nCommerce Court, Downtown Toronto\nCentral Toronto\nForest Hill North, Central Toronto\nThe Annex, Central Toronto, Yorkville\nDowntown Toronto, University of Toronto\nChinatown, Grange Park, Kensington Market\nCN Tower, Downtown Toronto, Downtown Toronto, Downtown Toronto, King and Spadina, Railway Lands, South Niagara\nDowntown Toronto\nFirst Canadian Place, Underground city\nDowntown Toronto\nDovercourt Village, West Toronto\nLittle Portugal, Trinity\nWest Toronto, Exhibition Place, Parkdale Village\nHigh Park, West Toronto\nParkdale, Roncesvalles\nRunnymede, Swansea\nEast Toronto\n"
                }, 
                {
                    "execution_count": 84, 
                    "metadata": {}, 
                    "data": {
                        "text/html": "<div>\n<style scoped>\n    .dataframe tbody tr th:only-of-type {\n        vertical-align: middle;\n    }\n\n    .dataframe tbody tr th {\n        vertical-align: top;\n    }\n\n    .dataframe thead th {\n        text-align: right;\n    }\n</style>\n<table border=\"1\" class=\"dataframe\">\n  <thead>\n    <tr style=\"text-align: right;\">\n      <th></th>\n      <th>Neighborhood</th>\n      <th>Neighborhood Latitude</th>\n      <th>Neighborhood Longitude</th>\n      <th>Venue</th>\n      <th>Venue Latitude</th>\n      <th>Venue Longitude</th>\n      <th>Venue Category</th>\n    </tr>\n  </thead>\n  <tbody>\n    <tr>\n      <th>0</th>\n      <td>The Beaches</td>\n      <td>43.676357</td>\n      <td>-79.293031</td>\n      <td>The Big Carrot Natural Food Market</td>\n      <td>43.678879</td>\n      <td>-79.297734</td>\n      <td>Health Food Store</td>\n    </tr>\n    <tr>\n      <th>1</th>\n      <td>The Beaches</td>\n      <td>43.676357</td>\n      <td>-79.293031</td>\n      <td>Grover Pub and Grub</td>\n      <td>43.679181</td>\n      <td>-79.297215</td>\n      <td>Pub</td>\n    </tr>\n    <tr>\n      <th>2</th>\n      <td>The Beaches</td>\n      <td>43.676357</td>\n      <td>-79.293031</td>\n      <td>Glen Manor Ravine</td>\n      <td>43.676821</td>\n      <td>-79.293942</td>\n      <td>Trail</td>\n    </tr>\n    <tr>\n      <th>3</th>\n      <td>The Beaches</td>\n      <td>43.676357</td>\n      <td>-79.293031</td>\n      <td>Upper Beaches</td>\n      <td>43.680563</td>\n      <td>-79.292869</td>\n      <td>Neighborhood</td>\n    </tr>\n    <tr>\n      <th>4</th>\n      <td>East Toronto, Riverdale</td>\n      <td>43.679557</td>\n      <td>-79.352188</td>\n      <td>Pantheon</td>\n      <td>43.677621</td>\n      <td>-79.351434</td>\n      <td>Greek Restaurant</td>\n    </tr>\n  </tbody>\n</table>\n</div>", 
                        "text/plain": "              Neighborhood  Neighborhood Latitude  Neighborhood Longitude  \\\n0              The Beaches              43.676357              -79.293031   \n1              The Beaches              43.676357              -79.293031   \n2              The Beaches              43.676357              -79.293031   \n3              The Beaches              43.676357              -79.293031   \n4  East Toronto, Riverdale              43.679557              -79.352188   \n\n                                Venue  Venue Latitude  Venue Longitude  \\\n0  The Big Carrot Natural Food Market       43.678879       -79.297734   \n1                 Grover Pub and Grub       43.679181       -79.297215   \n2                   Glen Manor Ravine       43.676821       -79.293942   \n3                       Upper Beaches       43.680563       -79.292869   \n4                            Pantheon       43.677621       -79.351434   \n\n      Venue Category  \n0  Health Food Store  \n1                Pub  \n2              Trail  \n3       Neighborhood  \n4   Greek Restaurant  "
                    }, 
                    "output_type": "execute_result"
                }
            ], 
            "source": "toronto_venues = getNearbyVenues(names=Toronto['Neighborhood'],\n                                 latitudes=Toronto['Latitude'],\n                                 longitudes=Toronto['Longitude']\n                                )\ntoronto_venues.head()"
        }, 
        {
            "execution_count": 90, 
            "cell_type": "code", 
            "metadata": {}, 
            "outputs": [
                {
                    "execution_count": 90, 
                    "metadata": {}, 
                    "data": {
                        "text/html": "<div>\n<style scoped>\n    .dataframe tbody tr th:only-of-type {\n        vertical-align: middle;\n    }\n\n    .dataframe tbody tr th {\n        vertical-align: top;\n    }\n\n    .dataframe thead th {\n        text-align: right;\n    }\n</style>\n<table border=\"1\" class=\"dataframe\">\n  <thead>\n    <tr style=\"text-align: right;\">\n      <th></th>\n      <th>Neighborhood Latitude</th>\n      <th>Neighborhood Longitude</th>\n      <th>Venue</th>\n      <th>Venue Latitude</th>\n      <th>Venue Longitude</th>\n      <th>Venue Category</th>\n    </tr>\n    <tr>\n      <th>Neighborhood</th>\n      <th></th>\n      <th></th>\n      <th></th>\n      <th></th>\n      <th></th>\n      <th></th>\n    </tr>\n  </thead>\n  <tbody>\n    <tr>\n      <th>Berczy Park</th>\n      <td>55</td>\n      <td>55</td>\n      <td>55</td>\n      <td>55</td>\n      <td>55</td>\n      <td>55</td>\n    </tr>\n    <tr>\n      <th>CN Tower, Downtown Toronto, Downtown Toronto, Downtown Toronto, King and Spadina, Railway Lands, South Niagara</th>\n      <td>14</td>\n      <td>14</td>\n      <td>14</td>\n      <td>14</td>\n      <td>14</td>\n      <td>14</td>\n    </tr>\n    <tr>\n      <th>Cabbagetown, St. James Town</th>\n      <td>46</td>\n      <td>46</td>\n      <td>46</td>\n      <td>46</td>\n      <td>46</td>\n      <td>46</td>\n    </tr>\n    <tr>\n      <th>Central Toronto</th>\n      <td>64</td>\n      <td>64</td>\n      <td>64</td>\n      <td>64</td>\n      <td>64</td>\n      <td>64</td>\n    </tr>\n    <tr>\n      <th>Chinatown, Grange Park, Kensington Market</th>\n      <td>100</td>\n      <td>100</td>\n      <td>100</td>\n      <td>100</td>\n      <td>100</td>\n      <td>100</td>\n    </tr>\n    <tr>\n      <th>Church and Wellesley</th>\n      <td>87</td>\n      <td>87</td>\n      <td>87</td>\n      <td>87</td>\n      <td>87</td>\n      <td>87</td>\n    </tr>\n    <tr>\n      <th>Commerce Court, Downtown Toronto</th>\n      <td>100</td>\n      <td>100</td>\n      <td>100</td>\n      <td>100</td>\n      <td>100</td>\n      <td>100</td>\n    </tr>\n    <tr>\n      <th>Deer Park, Central Toronto, Rathnelly, South Hill, Central Toronto</th>\n      <td>14</td>\n      <td>14</td>\n      <td>14</td>\n      <td>14</td>\n      <td>14</td>\n      <td>14</td>\n    </tr>\n    <tr>\n      <th>Design Exchange, Toronto Dominion Centre</th>\n      <td>100</td>\n      <td>100</td>\n      <td>100</td>\n      <td>100</td>\n      <td>100</td>\n      <td>100</td>\n    </tr>\n    <tr>\n      <th>Dovercourt Village, West Toronto</th>\n      <td>20</td>\n      <td>20</td>\n      <td>20</td>\n      <td>20</td>\n      <td>20</td>\n      <td>20</td>\n    </tr>\n    <tr>\n      <th>Downtown Toronto</th>\n      <td>197</td>\n      <td>197</td>\n      <td>197</td>\n      <td>197</td>\n      <td>197</td>\n      <td>197</td>\n    </tr>\n    <tr>\n      <th>Downtown Toronto, Downtown Toronto</th>\n      <td>100</td>\n      <td>100</td>\n      <td>100</td>\n      <td>100</td>\n      <td>100</td>\n      <td>100</td>\n    </tr>\n    <tr>\n      <th>Downtown Toronto, Downtown Toronto, Downtown Toronto</th>\n      <td>100</td>\n      <td>100</td>\n      <td>100</td>\n      <td>100</td>\n      <td>100</td>\n      <td>100</td>\n    </tr>\n    <tr>\n      <th>Downtown Toronto, Toronto Islands, Union Station</th>\n      <td>100</td>\n      <td>100</td>\n      <td>100</td>\n      <td>100</td>\n      <td>100</td>\n      <td>100</td>\n    </tr>\n    <tr>\n      <th>Downtown Toronto, University of Toronto</th>\n      <td>34</td>\n      <td>34</td>\n      <td>34</td>\n      <td>34</td>\n      <td>34</td>\n      <td>34</td>\n    </tr>\n    <tr>\n      <th>East Toronto</th>\n      <td>57</td>\n      <td>57</td>\n      <td>57</td>\n      <td>57</td>\n      <td>57</td>\n      <td>57</td>\n    </tr>\n    <tr>\n      <th>East Toronto, India Bazaar</th>\n      <td>18</td>\n      <td>18</td>\n      <td>18</td>\n      <td>18</td>\n      <td>18</td>\n      <td>18</td>\n    </tr>\n    <tr>\n      <th>East Toronto, Riverdale</th>\n      <td>42</td>\n      <td>42</td>\n      <td>42</td>\n      <td>42</td>\n      <td>42</td>\n      <td>42</td>\n    </tr>\n    <tr>\n      <th>First Canadian Place, Underground city</th>\n      <td>100</td>\n      <td>100</td>\n      <td>100</td>\n      <td>100</td>\n      <td>100</td>\n      <td>100</td>\n    </tr>\n    <tr>\n      <th>Forest Hill North, Central Toronto</th>\n      <td>4</td>\n      <td>4</td>\n      <td>4</td>\n      <td>4</td>\n      <td>4</td>\n      <td>4</td>\n    </tr>\n    <tr>\n      <th>Harbourfront, Regent Park</th>\n      <td>48</td>\n      <td>48</td>\n      <td>48</td>\n      <td>48</td>\n      <td>48</td>\n      <td>48</td>\n    </tr>\n    <tr>\n      <th>High Park, West Toronto</th>\n      <td>23</td>\n      <td>23</td>\n      <td>23</td>\n      <td>23</td>\n      <td>23</td>\n      <td>23</td>\n    </tr>\n    <tr>\n      <th>Lawrence Park</th>\n      <td>3</td>\n      <td>3</td>\n      <td>3</td>\n      <td>3</td>\n      <td>3</td>\n      <td>3</td>\n    </tr>\n    <tr>\n      <th>Little Portugal, Trinity</th>\n      <td>62</td>\n      <td>62</td>\n      <td>62</td>\n      <td>62</td>\n      <td>62</td>\n      <td>62</td>\n    </tr>\n    <tr>\n      <th>Moore Park, Central Toronto</th>\n      <td>2</td>\n      <td>2</td>\n      <td>2</td>\n      <td>2</td>\n      <td>2</td>\n      <td>2</td>\n    </tr>\n    <tr>\n      <th>Parkdale, Roncesvalles</th>\n      <td>15</td>\n      <td>15</td>\n      <td>15</td>\n      <td>15</td>\n      <td>15</td>\n      <td>15</td>\n    </tr>\n    <tr>\n      <th>Rosedale</th>\n      <td>4</td>\n      <td>4</td>\n      <td>4</td>\n      <td>4</td>\n      <td>4</td>\n      <td>4</td>\n    </tr>\n    <tr>\n      <th>Runnymede, Swansea</th>\n      <td>38</td>\n      <td>38</td>\n      <td>38</td>\n      <td>38</td>\n      <td>38</td>\n      <td>38</td>\n    </tr>\n    <tr>\n      <th>St. James Town</th>\n      <td>100</td>\n      <td>100</td>\n      <td>100</td>\n      <td>100</td>\n      <td>100</td>\n      <td>100</td>\n    </tr>\n    <tr>\n      <th>The Annex, Central Toronto, Yorkville</th>\n      <td>23</td>\n      <td>23</td>\n      <td>23</td>\n      <td>23</td>\n      <td>23</td>\n      <td>23</td>\n    </tr>\n    <tr>\n      <th>The Beaches</th>\n      <td>4</td>\n      <td>4</td>\n      <td>4</td>\n      <td>4</td>\n      <td>4</td>\n      <td>4</td>\n    </tr>\n    <tr>\n      <th>West Toronto, Exhibition Place, Parkdale Village</th>\n      <td>21</td>\n      <td>21</td>\n      <td>21</td>\n      <td>21</td>\n      <td>21</td>\n      <td>21</td>\n    </tr>\n  </tbody>\n</table>\n</div>", 
                        "text/plain": "                                                    Neighborhood Latitude  \\\nNeighborhood                                                                \nBerczy Park                                                            55   \nCN Tower, Downtown Toronto, Downtown Toronto, D...                     14   \nCabbagetown, St. James Town                                            46   \nCentral Toronto                                                        64   \nChinatown, Grange Park, Kensington Market                             100   \nChurch and Wellesley                                                   87   \nCommerce Court, Downtown Toronto                                      100   \nDeer Park, Central Toronto, Rathnelly, South Hi...                     14   \nDesign Exchange, Toronto Dominion Centre                              100   \nDovercourt Village, West Toronto                                       20   \nDowntown Toronto                                                      197   \nDowntown Toronto, Downtown Toronto                                    100   \nDowntown Toronto, Downtown Toronto, Downtown To...                    100   \nDowntown Toronto, Toronto Islands, Union Station                      100   \nDowntown Toronto, University of Toronto                                34   \nEast Toronto                                                           57   \nEast Toronto, India Bazaar                                             18   \nEast Toronto, Riverdale                                                42   \nFirst Canadian Place, Underground city                                100   \nForest Hill North, Central Toronto                                      4   \nHarbourfront, Regent Park                                              48   \nHigh Park, West Toronto                                                23   \nLawrence Park                                                           3   \nLittle Portugal, Trinity                                               62   \nMoore Park, Central Toronto                                             2   \nParkdale, Roncesvalles                                                 15   \nRosedale                                                                4   \nRunnymede, Swansea                                                     38   \nSt. James Town                                                        100   \nThe Annex, Central Toronto, Yorkville                                  23   \nThe Beaches                                                             4   \nWest Toronto, Exhibition Place, Parkdale Village                       21   \n\n                                                    Neighborhood Longitude  \\\nNeighborhood                                                                 \nBerczy Park                                                             55   \nCN Tower, Downtown Toronto, Downtown Toronto, D...                      14   \nCabbagetown, St. James Town                                             46   \nCentral Toronto                                                         64   \nChinatown, Grange Park, Kensington Market                              100   \nChurch and Wellesley                                                    87   \nCommerce Court, Downtown Toronto                                       100   \nDeer Park, Central Toronto, Rathnelly, South Hi...                      14   \nDesign Exchange, Toronto Dominion Centre                               100   \nDovercourt Village, West Toronto                                        20   \nDowntown Toronto                                                       197   \nDowntown Toronto, Downtown Toronto                                     100   \nDowntown Toronto, Downtown Toronto, Downtown To...                     100   \nDowntown Toronto, Toronto Islands, Union Station                       100   \nDowntown Toronto, University of Toronto                                 34   \nEast Toronto                                                            57   \nEast Toronto, India Bazaar                                              18   \nEast Toronto, Riverdale                                                 42   \nFirst Canadian Place, Underground city                                 100   \nForest Hill North, Central Toronto                                       4   \nHarbourfront, Regent Park                                               48   \nHigh Park, West Toronto                                                 23   \nLawrence Park                                                            3   \nLittle Portugal, Trinity                                                62   \nMoore Park, Central Toronto                                              2   \nParkdale, Roncesvalles                                                  15   \nRosedale                                                                 4   \nRunnymede, Swansea                                                      38   \nSt. James Town                                                         100   \nThe Annex, Central Toronto, Yorkville                                   23   \nThe Beaches                                                              4   \nWest Toronto, Exhibition Place, Parkdale Village                        21   \n\n                                                    Venue  Venue Latitude  \\\nNeighborhood                                                                \nBerczy Park                                            55              55   \nCN Tower, Downtown Toronto, Downtown Toronto, D...     14              14   \nCabbagetown, St. James Town                            46              46   \nCentral Toronto                                        64              64   \nChinatown, Grange Park, Kensington Market             100             100   \nChurch and Wellesley                                   87              87   \nCommerce Court, Downtown Toronto                      100             100   \nDeer Park, Central Toronto, Rathnelly, South Hi...     14              14   \nDesign Exchange, Toronto Dominion Centre              100             100   \nDovercourt Village, West Toronto                       20              20   \nDowntown Toronto                                      197             197   \nDowntown Toronto, Downtown Toronto                    100             100   \nDowntown Toronto, Downtown Toronto, Downtown To...    100             100   \nDowntown Toronto, Toronto Islands, Union Station      100             100   \nDowntown Toronto, University of Toronto                34              34   \nEast Toronto                                           57              57   \nEast Toronto, India Bazaar                             18              18   \nEast Toronto, Riverdale                                42              42   \nFirst Canadian Place, Underground city                100             100   \nForest Hill North, Central Toronto                      4               4   \nHarbourfront, Regent Park                              48              48   \nHigh Park, West Toronto                                23              23   \nLawrence Park                                           3               3   \nLittle Portugal, Trinity                               62              62   \nMoore Park, Central Toronto                             2               2   \nParkdale, Roncesvalles                                 15              15   \nRosedale                                                4               4   \nRunnymede, Swansea                                     38              38   \nSt. James Town                                        100             100   \nThe Annex, Central Toronto, Yorkville                  23              23   \nThe Beaches                                             4               4   \nWest Toronto, Exhibition Place, Parkdale Village       21              21   \n\n                                                    Venue Longitude  \\\nNeighborhood                                                          \nBerczy Park                                                      55   \nCN Tower, Downtown Toronto, Downtown Toronto, D...               14   \nCabbagetown, St. James Town                                      46   \nCentral Toronto                                                  64   \nChinatown, Grange Park, Kensington Market                       100   \nChurch and Wellesley                                             87   \nCommerce Court, Downtown Toronto                                100   \nDeer Park, Central Toronto, Rathnelly, South Hi...               14   \nDesign Exchange, Toronto Dominion Centre                        100   \nDovercourt Village, West Toronto                                 20   \nDowntown Toronto                                                197   \nDowntown Toronto, Downtown Toronto                              100   \nDowntown Toronto, Downtown Toronto, Downtown To...              100   \nDowntown Toronto, Toronto Islands, Union Station                100   \nDowntown Toronto, University of Toronto                          34   \nEast Toronto                                                     57   \nEast Toronto, India Bazaar                                       18   \nEast Toronto, Riverdale                                          42   \nFirst Canadian Place, Underground city                          100   \nForest Hill North, Central Toronto                                4   \nHarbourfront, Regent Park                                        48   \nHigh Park, West Toronto                                          23   \nLawrence Park                                                     3   \nLittle Portugal, Trinity                                         62   \nMoore Park, Central Toronto                                       2   \nParkdale, Roncesvalles                                           15   \nRosedale                                                          4   \nRunnymede, Swansea                                               38   \nSt. James Town                                                  100   \nThe Annex, Central Toronto, Yorkville                            23   \nThe Beaches                                                       4   \nWest Toronto, Exhibition Place, Parkdale Village                 21   \n\n                                                    Venue Category  \nNeighborhood                                                        \nBerczy Park                                                     55  \nCN Tower, Downtown Toronto, Downtown Toronto, D...              14  \nCabbagetown, St. James Town                                     46  \nCentral Toronto                                                 64  \nChinatown, Grange Park, Kensington Market                      100  \nChurch and Wellesley                                            87  \nCommerce Court, Downtown Toronto                               100  \nDeer Park, Central Toronto, Rathnelly, South Hi...              14  \nDesign Exchange, Toronto Dominion Centre                       100  \nDovercourt Village, West Toronto                                20  \nDowntown Toronto                                               197  \nDowntown Toronto, Downtown Toronto                             100  \nDowntown Toronto, Downtown Toronto, Downtown To...             100  \nDowntown Toronto, Toronto Islands, Union Station               100  \nDowntown Toronto, University of Toronto                         34  \nEast Toronto                                                    57  \nEast Toronto, India Bazaar                                      18  \nEast Toronto, Riverdale                                         42  \nFirst Canadian Place, Underground city                         100  \nForest Hill North, Central Toronto                               4  \nHarbourfront, Regent Park                                       48  \nHigh Park, West Toronto                                         23  \nLawrence Park                                                    3  \nLittle Portugal, Trinity                                        62  \nMoore Park, Central Toronto                                      2  \nParkdale, Roncesvalles                                          15  \nRosedale                                                         4  \nRunnymede, Swansea                                              38  \nSt. James Town                                                 100  \nThe Annex, Central Toronto, Yorkville                           23  \nThe Beaches                                                      4  \nWest Toronto, Exhibition Place, Parkdale Village                21  "
                    }, 
                    "output_type": "execute_result"
                }
            ], 
            "source": "toronto_venues.groupby('Neighborhood').count()"
        }, 
        {
            "execution_count": null, 
            "cell_type": "code", 
            "metadata": {}, 
            "outputs": [], 
            "source": ""
        }
    ], 
    "metadata": {
        "kernelspec": {
            "display_name": "Python 3.5", 
            "name": "python3", 
            "language": "python"
        }, 
        "language_info": {
            "mimetype": "text/x-python", 
            "nbconvert_exporter": "python", 
            "version": "3.5.5", 
            "name": "python", 
            "file_extension": ".py", 
            "pygments_lexer": "ipython3", 
            "codemirror_mode": {
                "version": 3, 
                "name": "ipython"
            }
        }
    }, 
    "nbformat": 4
}